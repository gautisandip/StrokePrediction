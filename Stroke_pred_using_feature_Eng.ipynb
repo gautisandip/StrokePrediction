{
  "nbformat": 4,
  "nbformat_minor": 0,
  "metadata": {
    "colab": {
      "name": "Stroke pred using feature Eng.ipynb",
      "provenance": []
    },
    "kernelspec": {
      "name": "python3",
      "display_name": "Python 3"
    }
  },
  "cells": [
    {
      "cell_type": "markdown",
      "metadata": {
        "id": "X2RdwOLTSLbK"
      },
      "source": [
        "Import Libraries"
      ]
    },
    {
      "cell_type": "code",
      "metadata": {
        "id": "vtaMCbLdSH-f"
      },
      "source": [
        "import pandas as pd\r\n",
        "import numpy as np\r\n",
        "import matplotlib.pyplot as plt\r\n",
        "import seaborn as sns\r\n",
        "from sklearn.model_selection import train_test_split\r\n",
        "from sklearn.tree import DecisionTreeClassifier\r\n",
        "from sklearn.metrics import accuracy_score, confusion_matrix, classification_report"
      ],
      "execution_count": 15,
      "outputs": []
    },
    {
      "cell_type": "code",
      "metadata": {
        "id": "AyIW54AgRnMV"
      },
      "source": [
        "data = pd.read_csv(r'/content/healthcare-dataset-stroke-data.csv')"
      ],
      "execution_count": 16,
      "outputs": []
    },
    {
      "cell_type": "code",
      "metadata": {
        "colab": {
          "base_uri": "https://localhost:8080/",
          "height": 258
        },
        "id": "sRojdntlR1my",
        "outputId": "201aa2dd-09a1-47ad-d678-f963acc8b062"
      },
      "source": [
        "data.head()"
      ],
      "execution_count": 17,
      "outputs": [
        {
          "output_type": "execute_result",
          "data": {
            "text/html": [
              "<div>\n",
              "<style scoped>\n",
              "    .dataframe tbody tr th:only-of-type {\n",
              "        vertical-align: middle;\n",
              "    }\n",
              "\n",
              "    .dataframe tbody tr th {\n",
              "        vertical-align: top;\n",
              "    }\n",
              "\n",
              "    .dataframe thead th {\n",
              "        text-align: right;\n",
              "    }\n",
              "</style>\n",
              "<table border=\"1\" class=\"dataframe\">\n",
              "  <thead>\n",
              "    <tr style=\"text-align: right;\">\n",
              "      <th></th>\n",
              "      <th>id</th>\n",
              "      <th>gender</th>\n",
              "      <th>age</th>\n",
              "      <th>hypertension</th>\n",
              "      <th>heart_disease</th>\n",
              "      <th>ever_married</th>\n",
              "      <th>work_type</th>\n",
              "      <th>Residence_type</th>\n",
              "      <th>avg_glucose_level</th>\n",
              "      <th>bmi</th>\n",
              "      <th>smoking_status</th>\n",
              "      <th>stroke</th>\n",
              "    </tr>\n",
              "  </thead>\n",
              "  <tbody>\n",
              "    <tr>\n",
              "      <th>0</th>\n",
              "      <td>9046</td>\n",
              "      <td>Male</td>\n",
              "      <td>67.0</td>\n",
              "      <td>0</td>\n",
              "      <td>1</td>\n",
              "      <td>Yes</td>\n",
              "      <td>Private</td>\n",
              "      <td>Urban</td>\n",
              "      <td>228.69</td>\n",
              "      <td>36.6</td>\n",
              "      <td>formerly smoked</td>\n",
              "      <td>1</td>\n",
              "    </tr>\n",
              "    <tr>\n",
              "      <th>1</th>\n",
              "      <td>51676</td>\n",
              "      <td>Female</td>\n",
              "      <td>61.0</td>\n",
              "      <td>0</td>\n",
              "      <td>0</td>\n",
              "      <td>Yes</td>\n",
              "      <td>Self-employed</td>\n",
              "      <td>Rural</td>\n",
              "      <td>202.21</td>\n",
              "      <td>NaN</td>\n",
              "      <td>never smoked</td>\n",
              "      <td>1</td>\n",
              "    </tr>\n",
              "    <tr>\n",
              "      <th>2</th>\n",
              "      <td>31112</td>\n",
              "      <td>Male</td>\n",
              "      <td>80.0</td>\n",
              "      <td>0</td>\n",
              "      <td>1</td>\n",
              "      <td>Yes</td>\n",
              "      <td>Private</td>\n",
              "      <td>Rural</td>\n",
              "      <td>105.92</td>\n",
              "      <td>32.5</td>\n",
              "      <td>never smoked</td>\n",
              "      <td>1</td>\n",
              "    </tr>\n",
              "    <tr>\n",
              "      <th>3</th>\n",
              "      <td>60182</td>\n",
              "      <td>Female</td>\n",
              "      <td>49.0</td>\n",
              "      <td>0</td>\n",
              "      <td>0</td>\n",
              "      <td>Yes</td>\n",
              "      <td>Private</td>\n",
              "      <td>Urban</td>\n",
              "      <td>171.23</td>\n",
              "      <td>34.4</td>\n",
              "      <td>smokes</td>\n",
              "      <td>1</td>\n",
              "    </tr>\n",
              "    <tr>\n",
              "      <th>4</th>\n",
              "      <td>1665</td>\n",
              "      <td>Female</td>\n",
              "      <td>79.0</td>\n",
              "      <td>1</td>\n",
              "      <td>0</td>\n",
              "      <td>Yes</td>\n",
              "      <td>Self-employed</td>\n",
              "      <td>Rural</td>\n",
              "      <td>174.12</td>\n",
              "      <td>24.0</td>\n",
              "      <td>never smoked</td>\n",
              "      <td>1</td>\n",
              "    </tr>\n",
              "  </tbody>\n",
              "</table>\n",
              "</div>"
            ],
            "text/plain": [
              "      id  gender   age  ...   bmi   smoking_status stroke\n",
              "0   9046    Male  67.0  ...  36.6  formerly smoked      1\n",
              "1  51676  Female  61.0  ...   NaN     never smoked      1\n",
              "2  31112    Male  80.0  ...  32.5     never smoked      1\n",
              "3  60182  Female  49.0  ...  34.4           smokes      1\n",
              "4   1665  Female  79.0  ...  24.0     never smoked      1\n",
              "\n",
              "[5 rows x 12 columns]"
            ]
          },
          "metadata": {
            "tags": []
          },
          "execution_count": 17
        }
      ]
    },
    {
      "cell_type": "markdown",
      "metadata": {
        "id": "BlMzLBGZSSGs"
      },
      "source": [
        "# Corr Plot"
      ]
    },
    {
      "cell_type": "code",
      "metadata": {
        "colab": {
          "base_uri": "https://localhost:8080/",
          "height": 187
        },
        "id": "L2OxSkCOR6k3",
        "outputId": "27090ebf-dcb9-424f-84be-2d133f9a7ddf"
      },
      "source": [
        "corr = data.corr()\r\n",
        "corr.style.background_gradient(cmap = 'coolwarm')"
      ],
      "execution_count": 18,
      "outputs": [
        {
          "output_type": "execute_result",
          "data": {
            "text/html": [
              "<style  type=\"text/css\" >\n",
              "#T_2b19791c_7e97_11eb_9458_0242ac1c0002row0_col0,#T_2b19791c_7e97_11eb_9458_0242ac1c0002row1_col1,#T_2b19791c_7e97_11eb_9458_0242ac1c0002row2_col2,#T_2b19791c_7e97_11eb_9458_0242ac1c0002row3_col3,#T_2b19791c_7e97_11eb_9458_0242ac1c0002row4_col4,#T_2b19791c_7e97_11eb_9458_0242ac1c0002row5_col5,#T_2b19791c_7e97_11eb_9458_0242ac1c0002row6_col6{\n",
              "            background-color:  #b40426;\n",
              "            color:  #f1f1f1;\n",
              "        }#T_2b19791c_7e97_11eb_9458_0242ac1c0002row0_col1,#T_2b19791c_7e97_11eb_9458_0242ac1c0002row0_col2,#T_2b19791c_7e97_11eb_9458_0242ac1c0002row0_col3,#T_2b19791c_7e97_11eb_9458_0242ac1c0002row0_col4,#T_2b19791c_7e97_11eb_9458_0242ac1c0002row0_col5,#T_2b19791c_7e97_11eb_9458_0242ac1c0002row0_col6,#T_2b19791c_7e97_11eb_9458_0242ac1c0002row3_col0,#T_2b19791c_7e97_11eb_9458_0242ac1c0002row4_col0{\n",
              "            background-color:  #3b4cc0;\n",
              "            color:  #f1f1f1;\n",
              "        }#T_2b19791c_7e97_11eb_9458_0242ac1c0002row1_col0,#T_2b19791c_7e97_11eb_9458_0242ac1c0002row2_col0,#T_2b19791c_7e97_11eb_9458_0242ac1c0002row5_col0,#T_2b19791c_7e97_11eb_9458_0242ac1c0002row6_col0{\n",
              "            background-color:  #3c4ec2;\n",
              "            color:  #f1f1f1;\n",
              "        }#T_2b19791c_7e97_11eb_9458_0242ac1c0002row1_col2,#T_2b19791c_7e97_11eb_9458_0242ac1c0002row2_col1{\n",
              "            background-color:  #96b7ff;\n",
              "            color:  #000000;\n",
              "        }#T_2b19791c_7e97_11eb_9458_0242ac1c0002row1_col3{\n",
              "            background-color:  #92b4fe;\n",
              "            color:  #000000;\n",
              "        }#T_2b19791c_7e97_11eb_9458_0242ac1c0002row1_col4,#T_2b19791c_7e97_11eb_9458_0242ac1c0002row4_col1{\n",
              "            background-color:  #88abfd;\n",
              "            color:  #000000;\n",
              "        }#T_2b19791c_7e97_11eb_9458_0242ac1c0002row1_col5,#T_2b19791c_7e97_11eb_9458_0242ac1c0002row5_col1{\n",
              "            background-color:  #a9c6fd;\n",
              "            color:  #000000;\n",
              "        }#T_2b19791c_7e97_11eb_9458_0242ac1c0002row1_col6{\n",
              "            background-color:  #89acfd;\n",
              "            color:  #000000;\n",
              "        }#T_2b19791c_7e97_11eb_9458_0242ac1c0002row2_col3{\n",
              "            background-color:  #5d7ce6;\n",
              "            color:  #000000;\n",
              "        }#T_2b19791c_7e97_11eb_9458_0242ac1c0002row2_col4,#T_2b19791c_7e97_11eb_9458_0242ac1c0002row4_col5,#T_2b19791c_7e97_11eb_9458_0242ac1c0002row5_col4{\n",
              "            background-color:  #7295f4;\n",
              "            color:  #000000;\n",
              "        }#T_2b19791c_7e97_11eb_9458_0242ac1c0002row2_col5,#T_2b19791c_7e97_11eb_9458_0242ac1c0002row5_col2{\n",
              "            background-color:  #6f92f3;\n",
              "            color:  #000000;\n",
              "        }#T_2b19791c_7e97_11eb_9458_0242ac1c0002row2_col6,#T_2b19791c_7e97_11eb_9458_0242ac1c0002row6_col2{\n",
              "            background-color:  #6180e9;\n",
              "            color:  #000000;\n",
              "        }#T_2b19791c_7e97_11eb_9458_0242ac1c0002row3_col1{\n",
              "            background-color:  #90b2fe;\n",
              "            color:  #000000;\n",
              "        }#T_2b19791c_7e97_11eb_9458_0242ac1c0002row3_col2{\n",
              "            background-color:  #5a78e4;\n",
              "            color:  #000000;\n",
              "        }#T_2b19791c_7e97_11eb_9458_0242ac1c0002row3_col4,#T_2b19791c_7e97_11eb_9458_0242ac1c0002row4_col3{\n",
              "            background-color:  #6e90f2;\n",
              "            color:  #000000;\n",
              "        }#T_2b19791c_7e97_11eb_9458_0242ac1c0002row3_col5,#T_2b19791c_7e97_11eb_9458_0242ac1c0002row5_col6{\n",
              "            background-color:  #455cce;\n",
              "            color:  #f1f1f1;\n",
              "        }#T_2b19791c_7e97_11eb_9458_0242ac1c0002row3_col6,#T_2b19791c_7e97_11eb_9458_0242ac1c0002row6_col4{\n",
              "            background-color:  #6384eb;\n",
              "            color:  #000000;\n",
              "        }#T_2b19791c_7e97_11eb_9458_0242ac1c0002row4_col2{\n",
              "            background-color:  #7093f3;\n",
              "            color:  #000000;\n",
              "        }#T_2b19791c_7e97_11eb_9458_0242ac1c0002row4_col6{\n",
              "            background-color:  #6282ea;\n",
              "            color:  #000000;\n",
              "        }#T_2b19791c_7e97_11eb_9458_0242ac1c0002row5_col3,#T_2b19791c_7e97_11eb_9458_0242ac1c0002row6_col5{\n",
              "            background-color:  #465ecf;\n",
              "            color:  #f1f1f1;\n",
              "        }#T_2b19791c_7e97_11eb_9458_0242ac1c0002row6_col1{\n",
              "            background-color:  #8badfd;\n",
              "            color:  #000000;\n",
              "        }#T_2b19791c_7e97_11eb_9458_0242ac1c0002row6_col3{\n",
              "            background-color:  #6485ec;\n",
              "            color:  #000000;\n",
              "        }</style><table id=\"T_2b19791c_7e97_11eb_9458_0242ac1c0002\" ><thead>    <tr>        <th class=\"blank level0\" ></th>        <th class=\"col_heading level0 col0\" >id</th>        <th class=\"col_heading level0 col1\" >age</th>        <th class=\"col_heading level0 col2\" >hypertension</th>        <th class=\"col_heading level0 col3\" >heart_disease</th>        <th class=\"col_heading level0 col4\" >avg_glucose_level</th>        <th class=\"col_heading level0 col5\" >bmi</th>        <th class=\"col_heading level0 col6\" >stroke</th>    </tr></thead><tbody>\n",
              "                <tr>\n",
              "                        <th id=\"T_2b19791c_7e97_11eb_9458_0242ac1c0002level0_row0\" class=\"row_heading level0 row0\" >id</th>\n",
              "                        <td id=\"T_2b19791c_7e97_11eb_9458_0242ac1c0002row0_col0\" class=\"data row0 col0\" >1.000000</td>\n",
              "                        <td id=\"T_2b19791c_7e97_11eb_9458_0242ac1c0002row0_col1\" class=\"data row0 col1\" >0.003538</td>\n",
              "                        <td id=\"T_2b19791c_7e97_11eb_9458_0242ac1c0002row0_col2\" class=\"data row0 col2\" >0.003550</td>\n",
              "                        <td id=\"T_2b19791c_7e97_11eb_9458_0242ac1c0002row0_col3\" class=\"data row0 col3\" >-0.001296</td>\n",
              "                        <td id=\"T_2b19791c_7e97_11eb_9458_0242ac1c0002row0_col4\" class=\"data row0 col4\" >0.001092</td>\n",
              "                        <td id=\"T_2b19791c_7e97_11eb_9458_0242ac1c0002row0_col5\" class=\"data row0 col5\" >0.003084</td>\n",
              "                        <td id=\"T_2b19791c_7e97_11eb_9458_0242ac1c0002row0_col6\" class=\"data row0 col6\" >0.006388</td>\n",
              "            </tr>\n",
              "            <tr>\n",
              "                        <th id=\"T_2b19791c_7e97_11eb_9458_0242ac1c0002level0_row1\" class=\"row_heading level0 row1\" >age</th>\n",
              "                        <td id=\"T_2b19791c_7e97_11eb_9458_0242ac1c0002row1_col0\" class=\"data row1 col0\" >0.003538</td>\n",
              "                        <td id=\"T_2b19791c_7e97_11eb_9458_0242ac1c0002row1_col1\" class=\"data row1 col1\" >1.000000</td>\n",
              "                        <td id=\"T_2b19791c_7e97_11eb_9458_0242ac1c0002row1_col2\" class=\"data row1 col2\" >0.276398</td>\n",
              "                        <td id=\"T_2b19791c_7e97_11eb_9458_0242ac1c0002row1_col3\" class=\"data row1 col3\" >0.263796</td>\n",
              "                        <td id=\"T_2b19791c_7e97_11eb_9458_0242ac1c0002row1_col4\" class=\"data row1 col4\" >0.238171</td>\n",
              "                        <td id=\"T_2b19791c_7e97_11eb_9458_0242ac1c0002row1_col5\" class=\"data row1 col5\" >0.333398</td>\n",
              "                        <td id=\"T_2b19791c_7e97_11eb_9458_0242ac1c0002row1_col6\" class=\"data row1 col6\" >0.245257</td>\n",
              "            </tr>\n",
              "            <tr>\n",
              "                        <th id=\"T_2b19791c_7e97_11eb_9458_0242ac1c0002level0_row2\" class=\"row_heading level0 row2\" >hypertension</th>\n",
              "                        <td id=\"T_2b19791c_7e97_11eb_9458_0242ac1c0002row2_col0\" class=\"data row2 col0\" >0.003550</td>\n",
              "                        <td id=\"T_2b19791c_7e97_11eb_9458_0242ac1c0002row2_col1\" class=\"data row2 col1\" >0.276398</td>\n",
              "                        <td id=\"T_2b19791c_7e97_11eb_9458_0242ac1c0002row2_col2\" class=\"data row2 col2\" >1.000000</td>\n",
              "                        <td id=\"T_2b19791c_7e97_11eb_9458_0242ac1c0002row2_col3\" class=\"data row2 col3\" >0.108306</td>\n",
              "                        <td id=\"T_2b19791c_7e97_11eb_9458_0242ac1c0002row2_col4\" class=\"data row2 col4\" >0.174474</td>\n",
              "                        <td id=\"T_2b19791c_7e97_11eb_9458_0242ac1c0002row2_col5\" class=\"data row2 col5\" >0.167811</td>\n",
              "                        <td id=\"T_2b19791c_7e97_11eb_9458_0242ac1c0002row2_col6\" class=\"data row2 col6\" >0.127904</td>\n",
              "            </tr>\n",
              "            <tr>\n",
              "                        <th id=\"T_2b19791c_7e97_11eb_9458_0242ac1c0002level0_row3\" class=\"row_heading level0 row3\" >heart_disease</th>\n",
              "                        <td id=\"T_2b19791c_7e97_11eb_9458_0242ac1c0002row3_col0\" class=\"data row3 col0\" >-0.001296</td>\n",
              "                        <td id=\"T_2b19791c_7e97_11eb_9458_0242ac1c0002row3_col1\" class=\"data row3 col1\" >0.263796</td>\n",
              "                        <td id=\"T_2b19791c_7e97_11eb_9458_0242ac1c0002row3_col2\" class=\"data row3 col2\" >0.108306</td>\n",
              "                        <td id=\"T_2b19791c_7e97_11eb_9458_0242ac1c0002row3_col3\" class=\"data row3 col3\" >1.000000</td>\n",
              "                        <td id=\"T_2b19791c_7e97_11eb_9458_0242ac1c0002row3_col4\" class=\"data row3 col4\" >0.161857</td>\n",
              "                        <td id=\"T_2b19791c_7e97_11eb_9458_0242ac1c0002row3_col5\" class=\"data row3 col5\" >0.041357</td>\n",
              "                        <td id=\"T_2b19791c_7e97_11eb_9458_0242ac1c0002row3_col6\" class=\"data row3 col6\" >0.134914</td>\n",
              "            </tr>\n",
              "            <tr>\n",
              "                        <th id=\"T_2b19791c_7e97_11eb_9458_0242ac1c0002level0_row4\" class=\"row_heading level0 row4\" >avg_glucose_level</th>\n",
              "                        <td id=\"T_2b19791c_7e97_11eb_9458_0242ac1c0002row4_col0\" class=\"data row4 col0\" >0.001092</td>\n",
              "                        <td id=\"T_2b19791c_7e97_11eb_9458_0242ac1c0002row4_col1\" class=\"data row4 col1\" >0.238171</td>\n",
              "                        <td id=\"T_2b19791c_7e97_11eb_9458_0242ac1c0002row4_col2\" class=\"data row4 col2\" >0.174474</td>\n",
              "                        <td id=\"T_2b19791c_7e97_11eb_9458_0242ac1c0002row4_col3\" class=\"data row4 col3\" >0.161857</td>\n",
              "                        <td id=\"T_2b19791c_7e97_11eb_9458_0242ac1c0002row4_col4\" class=\"data row4 col4\" >1.000000</td>\n",
              "                        <td id=\"T_2b19791c_7e97_11eb_9458_0242ac1c0002row4_col5\" class=\"data row4 col5\" >0.175502</td>\n",
              "                        <td id=\"T_2b19791c_7e97_11eb_9458_0242ac1c0002row4_col6\" class=\"data row4 col6\" >0.131945</td>\n",
              "            </tr>\n",
              "            <tr>\n",
              "                        <th id=\"T_2b19791c_7e97_11eb_9458_0242ac1c0002level0_row5\" class=\"row_heading level0 row5\" >bmi</th>\n",
              "                        <td id=\"T_2b19791c_7e97_11eb_9458_0242ac1c0002row5_col0\" class=\"data row5 col0\" >0.003084</td>\n",
              "                        <td id=\"T_2b19791c_7e97_11eb_9458_0242ac1c0002row5_col1\" class=\"data row5 col1\" >0.333398</td>\n",
              "                        <td id=\"T_2b19791c_7e97_11eb_9458_0242ac1c0002row5_col2\" class=\"data row5 col2\" >0.167811</td>\n",
              "                        <td id=\"T_2b19791c_7e97_11eb_9458_0242ac1c0002row5_col3\" class=\"data row5 col3\" >0.041357</td>\n",
              "                        <td id=\"T_2b19791c_7e97_11eb_9458_0242ac1c0002row5_col4\" class=\"data row5 col4\" >0.175502</td>\n",
              "                        <td id=\"T_2b19791c_7e97_11eb_9458_0242ac1c0002row5_col5\" class=\"data row5 col5\" >1.000000</td>\n",
              "                        <td id=\"T_2b19791c_7e97_11eb_9458_0242ac1c0002row5_col6\" class=\"data row5 col6\" >0.042374</td>\n",
              "            </tr>\n",
              "            <tr>\n",
              "                        <th id=\"T_2b19791c_7e97_11eb_9458_0242ac1c0002level0_row6\" class=\"row_heading level0 row6\" >stroke</th>\n",
              "                        <td id=\"T_2b19791c_7e97_11eb_9458_0242ac1c0002row6_col0\" class=\"data row6 col0\" >0.006388</td>\n",
              "                        <td id=\"T_2b19791c_7e97_11eb_9458_0242ac1c0002row6_col1\" class=\"data row6 col1\" >0.245257</td>\n",
              "                        <td id=\"T_2b19791c_7e97_11eb_9458_0242ac1c0002row6_col2\" class=\"data row6 col2\" >0.127904</td>\n",
              "                        <td id=\"T_2b19791c_7e97_11eb_9458_0242ac1c0002row6_col3\" class=\"data row6 col3\" >0.134914</td>\n",
              "                        <td id=\"T_2b19791c_7e97_11eb_9458_0242ac1c0002row6_col4\" class=\"data row6 col4\" >0.131945</td>\n",
              "                        <td id=\"T_2b19791c_7e97_11eb_9458_0242ac1c0002row6_col5\" class=\"data row6 col5\" >0.042374</td>\n",
              "                        <td id=\"T_2b19791c_7e97_11eb_9458_0242ac1c0002row6_col6\" class=\"data row6 col6\" >1.000000</td>\n",
              "            </tr>\n",
              "    </tbody></table>"
            ],
            "text/plain": [
              "<pandas.io.formats.style.Styler at 0x7f8866140210>"
            ]
          },
          "metadata": {
            "tags": []
          },
          "execution_count": 18
        }
      ]
    },
    {
      "cell_type": "markdown",
      "metadata": {
        "id": "MceYtcWWSmmx"
      },
      "source": [
        "# Data Cleaning"
      ]
    },
    {
      "cell_type": "code",
      "metadata": {
        "id": "4O01VTxkSf21"
      },
      "source": [
        "data['bmi'].fillna((data['bmi'].mean()),inplace = True)"
      ],
      "execution_count": 19,
      "outputs": []
    },
    {
      "cell_type": "code",
      "metadata": {
        "colab": {
          "base_uri": "https://localhost:8080/"
        },
        "id": "eyKdrTZQSu5E",
        "outputId": "520911eb-edaf-46cc-ef43-60323023f5e0"
      },
      "source": [
        "data.isnull().sum()/len(data)*100"
      ],
      "execution_count": 20,
      "outputs": [
        {
          "output_type": "execute_result",
          "data": {
            "text/plain": [
              "id                   0.0\n",
              "gender               0.0\n",
              "age                  0.0\n",
              "hypertension         0.0\n",
              "heart_disease        0.0\n",
              "ever_married         0.0\n",
              "work_type            0.0\n",
              "Residence_type       0.0\n",
              "avg_glucose_level    0.0\n",
              "bmi                  0.0\n",
              "smoking_status       0.0\n",
              "stroke               0.0\n",
              "dtype: float64"
            ]
          },
          "metadata": {
            "tags": []
          },
          "execution_count": 20
        }
      ]
    },
    {
      "cell_type": "code",
      "metadata": {
        "colab": {
          "base_uri": "https://localhost:8080/"
        },
        "id": "b1vcQIMuSzcn",
        "outputId": "bfe4a1ce-ab54-4954-b32e-c2af245dc7f6"
      },
      "source": [
        "data.nunique()"
      ],
      "execution_count": 21,
      "outputs": [
        {
          "output_type": "execute_result",
          "data": {
            "text/plain": [
              "id                   5110\n",
              "gender                  3\n",
              "age                   104\n",
              "hypertension            2\n",
              "heart_disease           2\n",
              "ever_married            2\n",
              "work_type               5\n",
              "Residence_type          2\n",
              "avg_glucose_level    3979\n",
              "bmi                   419\n",
              "smoking_status          4\n",
              "stroke                  2\n",
              "dtype: int64"
            ]
          },
          "metadata": {
            "tags": []
          },
          "execution_count": 21
        }
      ]
    },
    {
      "cell_type": "code",
      "metadata": {
        "id": "kdg1qNfRS3Pd"
      },
      "source": [
        "data = data.drop(columns = ['id','gender','ever_married','work_type','Residence_type','hypertension','heart_disease','smoking_status'], axis =1)"
      ],
      "execution_count": 22,
      "outputs": []
    },
    {
      "cell_type": "code",
      "metadata": {
        "colab": {
          "base_uri": "https://localhost:8080/",
          "height": 204
        },
        "id": "xanr4z8ET3Dv",
        "outputId": "27a21f1b-b92d-436c-8aef-dd1787c0fe2d"
      },
      "source": [
        "data.head()"
      ],
      "execution_count": 23,
      "outputs": [
        {
          "output_type": "execute_result",
          "data": {
            "text/html": [
              "<div>\n",
              "<style scoped>\n",
              "    .dataframe tbody tr th:only-of-type {\n",
              "        vertical-align: middle;\n",
              "    }\n",
              "\n",
              "    .dataframe tbody tr th {\n",
              "        vertical-align: top;\n",
              "    }\n",
              "\n",
              "    .dataframe thead th {\n",
              "        text-align: right;\n",
              "    }\n",
              "</style>\n",
              "<table border=\"1\" class=\"dataframe\">\n",
              "  <thead>\n",
              "    <tr style=\"text-align: right;\">\n",
              "      <th></th>\n",
              "      <th>age</th>\n",
              "      <th>avg_glucose_level</th>\n",
              "      <th>bmi</th>\n",
              "      <th>stroke</th>\n",
              "    </tr>\n",
              "  </thead>\n",
              "  <tbody>\n",
              "    <tr>\n",
              "      <th>0</th>\n",
              "      <td>67.0</td>\n",
              "      <td>228.69</td>\n",
              "      <td>36.600000</td>\n",
              "      <td>1</td>\n",
              "    </tr>\n",
              "    <tr>\n",
              "      <th>1</th>\n",
              "      <td>61.0</td>\n",
              "      <td>202.21</td>\n",
              "      <td>28.893237</td>\n",
              "      <td>1</td>\n",
              "    </tr>\n",
              "    <tr>\n",
              "      <th>2</th>\n",
              "      <td>80.0</td>\n",
              "      <td>105.92</td>\n",
              "      <td>32.500000</td>\n",
              "      <td>1</td>\n",
              "    </tr>\n",
              "    <tr>\n",
              "      <th>3</th>\n",
              "      <td>49.0</td>\n",
              "      <td>171.23</td>\n",
              "      <td>34.400000</td>\n",
              "      <td>1</td>\n",
              "    </tr>\n",
              "    <tr>\n",
              "      <th>4</th>\n",
              "      <td>79.0</td>\n",
              "      <td>174.12</td>\n",
              "      <td>24.000000</td>\n",
              "      <td>1</td>\n",
              "    </tr>\n",
              "  </tbody>\n",
              "</table>\n",
              "</div>"
            ],
            "text/plain": [
              "    age  avg_glucose_level        bmi  stroke\n",
              "0  67.0             228.69  36.600000       1\n",
              "1  61.0             202.21  28.893237       1\n",
              "2  80.0             105.92  32.500000       1\n",
              "3  49.0             171.23  34.400000       1\n",
              "4  79.0             174.12  24.000000       1"
            ]
          },
          "metadata": {
            "tags": []
          },
          "execution_count": 23
        }
      ]
    },
    {
      "cell_type": "markdown",
      "metadata": {
        "id": "5jaBwo98UOw7"
      },
      "source": [
        "# Outlier removing"
      ]
    },
    {
      "cell_type": "code",
      "metadata": {
        "id": "vi9SikWSUMWI"
      },
      "source": [
        "def remove_outliers(col):\r\n",
        "    Q1,Q3 = col.quantile([0.25,0.75])\r\n",
        "    IQR = Q3-Q1\r\n",
        "    lower_range = Q1-(1.5*IQR)\r\n",
        "    upper_range = Q3+(1.5*IQR)\r\n",
        "    return upper_range,lower_range"
      ],
      "execution_count": 24,
      "outputs": []
    },
    {
      "cell_type": "code",
      "metadata": {
        "colab": {
          "base_uri": "https://localhost:8080/",
          "height": 265
        },
        "id": "EXMGZil8UVp8",
        "outputId": "c0e6906b-82c5-48b1-ff6a-f56773c276ba"
      },
      "source": [
        "data.boxplot(column = ['age'])\r\n",
        "plt.show()"
      ],
      "execution_count": 25,
      "outputs": [
        {
          "output_type": "display_data",
          "data": {
            "image/png": "[encoded data removed]",
            "text/plain": [
              "<Figure size 432x288 with 1 Axes>"
            ]
          },
          "metadata": {
            "tags": [],
            "needs_background": "light"
          }
        }
      ]
    },
    {
      "cell_type": "code",
      "metadata": {
        "colab": {
          "base_uri": "https://localhost:8080/",
          "height": 266
        },
        "id": "HN1V1iqgUyFA",
        "outputId": "f14af434-8e8b-42d7-e45a-2a543694d9de"
      },
      "source": [
        "data.boxplot(column = ['avg_glucose_level'])\r\n",
        "plt.show()"
      ],
      "execution_count": 26,
      "outputs": [
        {
          "output_type": "display_data",
          "data": {
            "image/png": "[encoded data removed]",
            "text/plain": [
              "<Figure size 432x288 with 1 Axes>"
            ]
          },
          "metadata": {
            "tags": [],
            "needs_background": "light"
          }
        }
      ]
    },
    {
      "cell_type": "code",
      "metadata": {
        "id": "EuNDZ3YyU3b-"
      },
      "source": [
        "upper_bound,lower_bound = remove_outliers(data['avg_glucose_level'])\r\n",
        "data['avg_glucose_level'] = np.where(data['avg_glucose_level']>=upper_bound,upper_bound,data['avg_glucose_level'])\r\n",
        "data['avg_glucose_level'] = np.where(data['avg_glucose_level']<=lower_bound,lower_bound,data['avg_glucose_level'])"
      ],
      "execution_count": 27,
      "outputs": []
    },
    {
      "cell_type": "code",
      "metadata": {
        "colab": {
          "base_uri": "https://localhost:8080/",
          "height": 266
        },
        "id": "ptjTOmEfU7B-",
        "outputId": "5856766e-c08e-4a90-ec3c-8ffe908ef8ac"
      },
      "source": [
        "data.boxplot(column = ['avg_glucose_level'])\r\n",
        "plt.show()"
      ],
      "execution_count": 28,
      "outputs": [
        {
          "output_type": "display_data",
          "data": {
            "image/png": "[encoded data removed]",
            "text/plain": [
              "<Figure size 432x288 with 1 Axes>"
            ]
          },
          "metadata": {
            "tags": [],
            "needs_background": "light"
          }
        }
      ]
    },
    {
      "cell_type": "code",
      "metadata": {
        "colab": {
          "base_uri": "https://localhost:8080/",
          "height": 265
        },
        "id": "gfAWE6EyU-D3",
        "outputId": "cfb57893-3ad7-4a49-edc9-efd8f2bf5a70"
      },
      "source": [
        "data.boxplot(column = ['bmi'])\r\n",
        "plt.show()"
      ],
      "execution_count": 29,
      "outputs": [
        {
          "output_type": "display_data",
          "data": {
            "image/png": "[encoded data removed]",
            "text/plain": [
              "<Figure size 432x288 with 1 Axes>"
            ]
          },
          "metadata": {
            "tags": [],
            "needs_background": "light"
          }
        }
      ]
    },
    {
      "cell_type": "code",
      "metadata": {
        "id": "h57Sk5X0VCkE"
      },
      "source": [
        "upper_bound,lower_bound = remove_outliers(data['bmi'])\r\n",
        "data['bmi'] = np.where(data['bmi']>=upper_bound,upper_bound,data['bmi'])\r\n",
        "data['bmi'] = np.where(data['bmi']<=lower_bound,lower_bound,data['bmi'])"
      ],
      "execution_count": 30,
      "outputs": []
    },
    {
      "cell_type": "code",
      "metadata": {
        "colab": {
          "base_uri": "https://localhost:8080/",
          "height": 265
        },
        "id": "nzQR6dTNVGnN",
        "outputId": "e84bd677-ca9a-4739-9669-49a9e5b446a5"
      },
      "source": [
        "data.boxplot(column = ['bmi'])\r\n",
        "plt.show()"
      ],
      "execution_count": 31,
      "outputs": [
        {
          "output_type": "display_data",
          "data": {
            "image/png": "[encoded data removed]",
            "text/plain": [
              "<Figure size 432x288 with 1 Axes>"
            ]
          },
          "metadata": {
            "tags": [],
            "needs_background": "light"
          }
        }
      ]
    },
    {
      "cell_type": "markdown",
      "metadata": {
        "id": "ypwUKVS6VTE9"
      },
      "source": [
        "# Train test split"
      ]
    },
    {
      "cell_type": "code",
      "metadata": {
        "id": "-_gNNlwLVK8O"
      },
      "source": [
        "X = data.drop('stroke',axis=1)\r\n",
        "y = data['stroke']\r\n",
        "\r\n",
        "X_train, X_test, y_train, y_test = train_test_split(X,y, test_size=.2, random_state= 101)"
      ],
      "execution_count": 32,
      "outputs": []
    },
    {
      "cell_type": "code",
      "metadata": {
        "colab": {
          "base_uri": "https://localhost:8080/"
        },
        "id": "5I4sSAz5VbUE",
        "outputId": "ca3f5c77-e423-4a21-c574-d62d70c96d25"
      },
      "source": [
        "print(X_train.shape)\r\n",
        "print(y_train.shape)\r\n",
        "print(X_test.shape)\r\n",
        "print(y_test.shape)"
      ],
      "execution_count": 33,
      "outputs": [
        {
          "output_type": "stream",
          "text": [
            "(4088, 3)\n",
            "(4088,)\n",
            "(1022, 3)\n",
            "(1022,)\n"
          ],
          "name": "stdout"
        }
      ]
    },
    {
      "cell_type": "markdown",
      "metadata": {
        "id": "k_zRjFeCVjwi"
      },
      "source": [
        "# Logistic Regression"
      ]
    },
    {
      "cell_type": "code",
      "metadata": {
        "colab": {
          "base_uri": "https://localhost:8080/"
        },
        "id": "g71MbULzVgmg",
        "outputId": "e0d4104d-8248-453f-c8fb-537b2d6cf765"
      },
      "source": [
        "from sklearn.linear_model import LogisticRegression\r\n",
        "clf = LogisticRegression()\r\n",
        "clf.fit(X_train,y_train)"
      ],
      "execution_count": 34,
      "outputs": [
        {
          "output_type": "execute_result",
          "data": {
            "text/plain": [
              "LogisticRegression(C=1.0, class_weight=None, dual=False, fit_intercept=True,\n",
              "                   intercept_scaling=1, l1_ratio=None, max_iter=100,\n",
              "                   multi_class='auto', n_jobs=None, penalty='l2',\n",
              "                   random_state=None, solver='lbfgs', tol=0.0001, verbose=0,\n",
              "                   warm_start=False)"
            ]
          },
          "metadata": {
            "tags": []
          },
          "execution_count": 34
        }
      ]
    },
    {
      "cell_type": "code",
      "metadata": {
        "id": "SKAbW-cxVtSA"
      },
      "source": [
        "lRpredict = clf.predict(X_test)"
      ],
      "execution_count": 35,
      "outputs": []
    },
    {
      "cell_type": "code",
      "metadata": {
        "colab": {
          "base_uri": "https://localhost:8080/"
        },
        "id": "WwfzwP2EVxYJ",
        "outputId": "0a67f7fc-cbe5-4267-c204-0006c7bbfd16"
      },
      "source": [
        "print(accuracy_score(y_test,lRpredict))\r\n",
        "print(confusion_matrix(y_test,lRpredict))"
      ],
      "execution_count": 36,
      "outputs": [
        {
          "output_type": "stream",
          "text": [
            "0.9471624266144814\n",
            "[[968   0]\n",
            " [ 54   0]]\n"
          ],
          "name": "stdout"
        }
      ]
    },
    {
      "cell_type": "code",
      "metadata": {
        "colab": {
          "base_uri": "https://localhost:8080/"
        },
        "id": "ZHxPASjpV-4P",
        "outputId": "58e41507-79b6-4474-ece0-1cccb25a5096"
      },
      "source": [
        "print(classification_report(y_test,lRpredict))"
      ],
      "execution_count": 37,
      "outputs": [
        {
          "output_type": "stream",
          "text": [
            "              precision    recall  f1-score   support\n",
            "\n",
            "           0       0.95      1.00      0.97       968\n",
            "           1       0.00      0.00      0.00        54\n",
            "\n",
            "    accuracy                           0.95      1022\n",
            "   macro avg       0.47      0.50      0.49      1022\n",
            "weighted avg       0.90      0.95      0.92      1022\n",
            "\n"
          ],
          "name": "stdout"
        },
        {
          "output_type": "stream",
          "text": [
            "/usr/local/lib/python3.7/dist-packages/sklearn/metrics/_classification.py:1272: UndefinedMetricWarning: Precision and F-score are ill-defined and being set to 0.0 in labels with no predicted samples. Use `zero_division` parameter to control this behavior.\n",
            "  _warn_prf(average, modifier, msg_start, len(result))\n"
          ],
          "name": "stderr"
        }
      ]
    },
    {
      "cell_type": "markdown",
      "metadata": {
        "id": "VebRiX_wWDH8"
      },
      "source": [
        "# Decision Tree"
      ]
    },
    {
      "cell_type": "code",
      "metadata": {
        "colab": {
          "base_uri": "https://localhost:8080/"
        },
        "id": "G5VwlG1zWA17",
        "outputId": "c5a1447b-19c9-47d1-e5c0-6b65de7d7e8c"
      },
      "source": [
        "Dic = DecisionTreeClassifier()\r\n",
        "Dic.fit(X_train,y_train)"
      ],
      "execution_count": 38,
      "outputs": [
        {
          "output_type": "execute_result",
          "data": {
            "text/plain": [
              "DecisionTreeClassifier(ccp_alpha=0.0, class_weight=None, criterion='gini',\n",
              "                       max_depth=None, max_features=None, max_leaf_nodes=None,\n",
              "                       min_impurity_decrease=0.0, min_impurity_split=None,\n",
              "                       min_samples_leaf=1, min_samples_split=2,\n",
              "                       min_weight_fraction_leaf=0.0, presort='deprecated',\n",
              "                       random_state=None, splitter='best')"
            ]
          },
          "metadata": {
            "tags": []
          },
          "execution_count": 38
        }
      ]
    },
    {
      "cell_type": "code",
      "metadata": {
        "id": "-DqO3zMGWLeL"
      },
      "source": [
        "DTpredict = Dic.predict(X_test)"
      ],
      "execution_count": 39,
      "outputs": []
    },
    {
      "cell_type": "code",
      "metadata": {
        "colab": {
          "base_uri": "https://localhost:8080/"
        },
        "id": "TkHVghbBWOx9",
        "outputId": "79b19b12-1a74-448f-fba2-8b07fc37afb5"
      },
      "source": [
        "print(accuracy_score(y_test,DTpredict))\r\n",
        "print(confusion_matrix(y_test,DTpredict))\r\n",
        "print(classification_report(y_test,DTpredict))"
      ],
      "execution_count": 40,
      "outputs": [
        {
          "output_type": "stream",
          "text": [
            "0.9099804305283757\n",
            "[[922  46]\n",
            " [ 46   8]]\n",
            "              precision    recall  f1-score   support\n",
            "\n",
            "           0       0.95      0.95      0.95       968\n",
            "           1       0.15      0.15      0.15        54\n",
            "\n",
            "    accuracy                           0.91      1022\n",
            "   macro avg       0.55      0.55      0.55      1022\n",
            "weighted avg       0.91      0.91      0.91      1022\n",
            "\n"
          ],
          "name": "stdout"
        }
      ]
    },
    {
      "cell_type": "markdown",
      "metadata": {
        "id": "lYkrjnYNWlGh"
      },
      "source": [
        "# Random Forest"
      ]
    },
    {
      "cell_type": "code",
      "metadata": {
        "colab": {
          "base_uri": "https://localhost:8080/"
        },
        "id": "m2AS2A2XWkeZ",
        "outputId": "4805983c-4ca6-4bfb-8bb4-eade851c6be2"
      },
      "source": [
        "from sklearn.ensemble import RandomForestClassifier\r\n",
        "model = RandomForestClassifier()\r\n",
        "model.fit(X_train,y_train)"
      ],
      "execution_count": 41,
      "outputs": [
        {
          "output_type": "execute_result",
          "data": {
            "text/plain": [
              "RandomForestClassifier(bootstrap=True, ccp_alpha=0.0, class_weight=None,\n",
              "                       criterion='gini', max_depth=None, max_features='auto',\n",
              "                       max_leaf_nodes=None, max_samples=None,\n",
              "                       min_impurity_decrease=0.0, min_impurity_split=None,\n",
              "                       min_samples_leaf=1, min_samples_split=2,\n",
              "                       min_weight_fraction_leaf=0.0, n_estimators=100,\n",
              "                       n_jobs=None, oob_score=False, random_state=None,\n",
              "                       verbose=0, warm_start=False)"
            ]
          },
          "metadata": {
            "tags": []
          },
          "execution_count": 41
        }
      ]
    },
    {
      "cell_type": "code",
      "metadata": {
        "id": "9xfkvFP9Wxv1"
      },
      "source": [
        "RFpredict = model.predict(X_test)"
      ],
      "execution_count": 42,
      "outputs": []
    },
    {
      "cell_type": "code",
      "metadata": {
        "colab": {
          "base_uri": "https://localhost:8080/"
        },
        "id": "xeZR3MgxW1Ar",
        "outputId": "d70f9c30-b4e1-4b7d-c7ca-7cc98ffae884"
      },
      "source": [
        "print(accuracy_score(y_test,RFpredict))\r\n",
        "print(confusion_matrix(y_test,RFpredict))\r\n",
        "print(classification_report(y_test,RFpredict))"
      ],
      "execution_count": 43,
      "outputs": [
        {
          "output_type": "stream",
          "text": [
            "0.9452054794520548\n",
            "[[963   5]\n",
            " [ 51   3]]\n",
            "              precision    recall  f1-score   support\n",
            "\n",
            "           0       0.95      0.99      0.97       968\n",
            "           1       0.38      0.06      0.10        54\n",
            "\n",
            "    accuracy                           0.95      1022\n",
            "   macro avg       0.66      0.53      0.53      1022\n",
            "weighted avg       0.92      0.95      0.93      1022\n",
            "\n"
          ],
          "name": "stdout"
        }
      ]
    },
    {
      "cell_type": "markdown",
      "metadata": {
        "id": "_Y54ELy1XH0v"
      },
      "source": [
        "# KNN"
      ]
    },
    {
      "cell_type": "code",
      "metadata": {
        "colab": {
          "base_uri": "https://localhost:8080/"
        },
        "id": "0_bdD-vJXC5-",
        "outputId": "0ca0226b-9c28-4fac-a970-f77e35ad9dc9"
      },
      "source": [
        "from sklearn.neighbors import KNeighborsClassifier\r\n",
        "knn=KNeighborsClassifier()\r\n",
        "knn.fit(X_train,y_train)"
      ],
      "execution_count": 44,
      "outputs": [
        {
          "output_type": "execute_result",
          "data": {
            "text/plain": [
              "KNeighborsClassifier(algorithm='auto', leaf_size=30, metric='minkowski',\n",
              "                     metric_params=None, n_jobs=None, n_neighbors=5, p=2,\n",
              "                     weights='uniform')"
            ]
          },
          "metadata": {
            "tags": []
          },
          "execution_count": 44
        }
      ]
    },
    {
      "cell_type": "code",
      "metadata": {
        "id": "MiuYCLVfXP-0"
      },
      "source": [
        "KNN_pred=knn.predict(X_test)"
      ],
      "execution_count": 45,
      "outputs": []
    },
    {
      "cell_type": "code",
      "metadata": {
        "colab": {
          "base_uri": "https://localhost:8080/"
        },
        "id": "VBg-MvFlXTAI",
        "outputId": "3dd603c7-0a1d-434f-c516-84ea8c219601"
      },
      "source": [
        "print(accuracy_score(y_test,KNN_pred))\r\n",
        "print(confusion_matrix(y_test,KNN_pred))\r\n",
        "print(classification_report(y_test,KNN_pred))"
      ],
      "execution_count": 46,
      "outputs": [
        {
          "output_type": "stream",
          "text": [
            "0.9422700587084148\n",
            "[[962   6]\n",
            " [ 53   1]]\n",
            "              precision    recall  f1-score   support\n",
            "\n",
            "           0       0.95      0.99      0.97       968\n",
            "           1       0.14      0.02      0.03        54\n",
            "\n",
            "    accuracy                           0.94      1022\n",
            "   macro avg       0.55      0.51      0.50      1022\n",
            "weighted avg       0.91      0.94      0.92      1022\n",
            "\n"
          ],
          "name": "stdout"
        }
      ]
    },
    {
      "cell_type": "code",
      "metadata": {
        "colab": {
          "base_uri": "https://localhost:8080/"
        },
        "id": "HuY5_9lHXkDm",
        "outputId": "723d4d1a-5404-4987-a5da-464d901f5d4c"
      },
      "source": [
        "from sklearn.svm import SVC\r\n",
        "sv=SVC()\r\n",
        "sv.fit(X_train,y_train)"
      ],
      "execution_count": 47,
      "outputs": [
        {
          "output_type": "execute_result",
          "data": {
            "text/plain": [
              "SVC(C=1.0, break_ties=False, cache_size=200, class_weight=None, coef0=0.0,\n",
              "    decision_function_shape='ovr', degree=3, gamma='scale', kernel='rbf',\n",
              "    max_iter=-1, probability=False, random_state=None, shrinking=True,\n",
              "    tol=0.001, verbose=False)"
            ]
          },
          "metadata": {
            "tags": []
          },
          "execution_count": 47
        }
      ]
    },
    {
      "cell_type": "code",
      "metadata": {
        "id": "gsr8dN3LXt_J"
      },
      "source": [
        "SV_pred=sv.predict(X_test)"
      ],
      "execution_count": 48,
      "outputs": []
    },
    {
      "cell_type": "code",
      "metadata": {
        "colab": {
          "base_uri": "https://localhost:8080/"
        },
        "id": "91DUWtb3XxK-",
        "outputId": "466219a9-2aa6-405c-e8db-c0cd43a368ba"
      },
      "source": [
        "print(accuracy_score(y_test,SV_pred))\r\n",
        "print(confusion_matrix(y_test,SV_pred))\r\n",
        "print(print(classification_report(y_test,SV_pred)))"
      ],
      "execution_count": 49,
      "outputs": [
        {
          "output_type": "stream",
          "text": [
            "0.9471624266144814\n",
            "[[968   0]\n",
            " [ 54   0]]\n",
            "              precision    recall  f1-score   support\n",
            "\n",
            "           0       0.95      1.00      0.97       968\n",
            "           1       0.00      0.00      0.00        54\n",
            "\n",
            "    accuracy                           0.95      1022\n",
            "   macro avg       0.47      0.50      0.49      1022\n",
            "weighted avg       0.90      0.95      0.92      1022\n",
            "\n",
            "None\n"
          ],
          "name": "stdout"
        },
        {
          "output_type": "stream",
          "text": [
            "/usr/local/lib/python3.7/dist-packages/sklearn/metrics/_classification.py:1272: UndefinedMetricWarning: Precision and F-score are ill-defined and being set to 0.0 in labels with no predicted samples. Use `zero_division` parameter to control this behavior.\n",
            "  _warn_prf(average, modifier, msg_start, len(result))\n"
          ],
          "name": "stderr"
        }
      ]
    }
  ]
}